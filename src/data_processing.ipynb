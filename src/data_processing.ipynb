{
 "cells": [
  {
   "cell_type": "code",
   "execution_count": 23,
   "metadata": {},
   "outputs": [],
   "source": [
    "from crawl_data import *\n",
    "import pandas as pd\n",
    "from datetime import date\n",
    "import pytz\n",
    "from ultils import (\n",
    "    camel_to_snake,\n",
    "    unix_to_datetime_with_timezone,\n",
    "    convert_numeric_nan_to_none,\n",
    ")\n",
    "from data_warehouse import insert_dataframe_to_sql"
   ]
  },
  {
   "cell_type": "markdown",
   "metadata": {},
   "source": [
    "## 1. Dữ liệu danh sách các quỹ mở đang có\n"
   ]
  },
  {
   "cell_type": "code",
   "execution_count": 24,
   "metadata": {},
   "outputs": [
    {
     "data": {
      "text/html": [
       "<div>\n",
       "<style scoped>\n",
       "    .dataframe tbody tr th:only-of-type {\n",
       "        vertical-align: middle;\n",
       "    }\n",
       "\n",
       "    .dataframe tbody tr th {\n",
       "        vertical-align: top;\n",
       "    }\n",
       "\n",
       "    .dataframe thead th {\n",
       "        text-align: right;\n",
       "    }\n",
       "</style>\n",
       "<table border=\"1\" class=\"dataframe\">\n",
       "  <thead>\n",
       "    <tr style=\"text-align: right;\">\n",
       "      <th></th>\n",
       "      <th>id</th>\n",
       "      <th>name</th>\n",
       "      <th>shortName</th>\n",
       "      <th>code</th>\n",
       "      <th>price</th>\n",
       "      <th>nav</th>\n",
       "      <th>lastYearNav</th>\n",
       "      <th>holdingVolume</th>\n",
       "      <th>firstIssueAt</th>\n",
       "      <th>approveAt</th>\n",
       "      <th>description</th>\n",
       "      <th>createAt</th>\n",
       "      <th>updateAt</th>\n",
       "      <th>owner</th>\n",
       "      <th>status</th>\n",
       "      <th>dataFundAssetType</th>\n",
       "      <th>productNavChange</th>\n",
       "    </tr>\n",
       "  </thead>\n",
       "  <tbody>\n",
       "    <tr>\n",
       "      <th>0</th>\n",
       "      <td>68</td>\n",
       "      <td>QUỸ ĐẦU TƯ CỔ PHIẾU KINH TẾ HIỆN ĐẠI VINACAPITAL</td>\n",
       "      <td>VMEEF</td>\n",
       "      <td>VMPF</td>\n",
       "      <td>10000.0</td>\n",
       "      <td>14945.25</td>\n",
       "      <td>11250.56</td>\n",
       "      <td>8554587.13</td>\n",
       "      <td>1681146000000</td>\n",
       "      <td>1698976912410</td>\n",
       "      <td>Quỹ VMEEF được đầu tư chủ yếu vào các cổ phiếu...</td>\n",
       "      <td>1698976594493</td>\n",
       "      <td>1723625818886</td>\n",
       "      <td>{'id': 677, 'encodeURL': 'cong-ty-co-phan-quan...</td>\n",
       "      <td>PRODUCT_ACTIVE</td>\n",
       "      <td>{'id': 1, 'name': 'Quỹ cổ phiếu', 'code': 'STO...</td>\n",
       "      <td>{'navToPrevious': 0.23, 'navToLastYear': 32.84...</td>\n",
       "    </tr>\n",
       "    <tr>\n",
       "      <th>1</th>\n",
       "      <td>11</td>\n",
       "      <td>QUỸ ĐẦU TƯ LỢI THẾ CẠNH TRANH BỀN VỮNG SSI</td>\n",
       "      <td>SSISCA</td>\n",
       "      <td>SSISCA</td>\n",
       "      <td>10000.0</td>\n",
       "      <td>39648.93</td>\n",
       "      <td>30573.98</td>\n",
       "      <td>3064435.58</td>\n",
       "      <td>1411664400000</td>\n",
       "      <td>1566827410082</td>\n",
       "      <td>Quỹ tăng trưởng NAV thông qua việc chủ động và...</td>\n",
       "      <td>1566826497938</td>\n",
       "      <td>1723626286873</td>\n",
       "      <td>{'id': 606, 'encodeURL': 'cong-ty-tnhh-quan-ly...</td>\n",
       "      <td>PRODUCT_ACTIVE</td>\n",
       "      <td>{'id': 1, 'name': 'Quỹ cổ phiếu', 'code': 'STO...</td>\n",
       "      <td>{'navToPrevious': 0.11, 'navToLastYear': 29.68...</td>\n",
       "    </tr>\n",
       "  </tbody>\n",
       "</table>\n",
       "</div>"
      ],
      "text/plain": [
       "   id                                              name shortName    code  \\\n",
       "0  68  QUỸ ĐẦU TƯ CỔ PHIẾU KINH TẾ HIỆN ĐẠI VINACAPITAL     VMEEF    VMPF   \n",
       "1  11        QUỸ ĐẦU TƯ LỢI THẾ CẠNH TRANH BỀN VỮNG SSI    SSISCA  SSISCA   \n",
       "\n",
       "     price       nav  lastYearNav  holdingVolume   firstIssueAt  \\\n",
       "0  10000.0  14945.25     11250.56     8554587.13  1681146000000   \n",
       "1  10000.0  39648.93     30573.98     3064435.58  1411664400000   \n",
       "\n",
       "       approveAt                                        description  \\\n",
       "0  1698976912410  Quỹ VMEEF được đầu tư chủ yếu vào các cổ phiếu...   \n",
       "1  1566827410082  Quỹ tăng trưởng NAV thông qua việc chủ động và...   \n",
       "\n",
       "        createAt       updateAt  \\\n",
       "0  1698976594493  1723625818886   \n",
       "1  1566826497938  1723626286873   \n",
       "\n",
       "                                               owner          status  \\\n",
       "0  {'id': 677, 'encodeURL': 'cong-ty-co-phan-quan...  PRODUCT_ACTIVE   \n",
       "1  {'id': 606, 'encodeURL': 'cong-ty-tnhh-quan-ly...  PRODUCT_ACTIVE   \n",
       "\n",
       "                                   dataFundAssetType  \\\n",
       "0  {'id': 1, 'name': 'Quỹ cổ phiếu', 'code': 'STO...   \n",
       "1  {'id': 1, 'name': 'Quỹ cổ phiếu', 'code': 'STO...   \n",
       "\n",
       "                                    productNavChange  \n",
       "0  {'navToPrevious': 0.23, 'navToLastYear': 32.84...  \n",
       "1  {'navToPrevious': 0.11, 'navToLastYear': 29.68...  "
      ]
     },
     "execution_count": 24,
     "metadata": {},
     "output_type": "execute_result"
    }
   ],
   "source": [
    "df_funds = get_all_funds()\n",
    "df_funds.head(2)"
   ]
  },
  {
   "cell_type": "code",
   "execution_count": 25,
   "metadata": {},
   "outputs": [
    {
     "name": "stdout",
     "output_type": "stream",
     "text": [
      "Number of funds: 50, number of owners: 22\n"
     ]
    }
   ],
   "source": [
    "# get list of funds and list of owner\n",
    "list_fund_id = list(df_funds.id)\n",
    "list_owner = list(df_funds.owner.drop_duplicates())\n",
    "print(\n",
    "    \"Number of funds: {}, number of owners: {}\".format(\n",
    "        len(list_fund_id), len(list_owner)\n",
    "    )\n",
    ")"
   ]
  },
  {
   "cell_type": "code",
   "execution_count": 26,
   "metadata": {},
   "outputs": [],
   "source": [
    "# convert from unix to datetime\n",
    "list_datetime_col = [\"firstIssueAt\", \"approveAt\", \"updateAt\", \"createAt\"]\n",
    "for col in list_datetime_col:\n",
    "    df_funds[col] = df_funds[col].apply(lambda x: unix_to_datetime_with_timezone(x))\n",
    "\n",
    "\n",
    "# add owner_id\n",
    "df_funds[\"owner_id\"] = df_funds[\"owner\"].apply(lambda x: x[\"id\"])\n",
    "\n",
    "# add fund type and code\n",
    "df_funds[\"fund_type_name\"] = df_funds[\"dataFundAssetType\"].apply(lambda x: x[\"name\"])\n",
    "df_funds[\"fund_type_code\"] = df_funds[\"dataFundAssetType\"].apply(lambda x: x[\"code\"])\n",
    "\n",
    "# add fund nav changes\n",
    "list_nav = [\n",
    "    \"navToPrevious\",\n",
    "    \"navToLastYear\",\n",
    "    \"navToEstablish\",\n",
    "    \"navTo1Months\",\n",
    "    \"navTo3Months\",\n",
    "    \"navTo6Months\",\n",
    "    \"navTo12Months\",\n",
    "    \"navTo24Months\",\n",
    "    \"navTo36Months\",\n",
    "    \"navTo60Months\",\n",
    "    \"annualizedReturn36Months\",\n",
    "    \"navToBeginning\",\n",
    "]\n",
    "for nav in list_nav:\n",
    "    df_funds[nav] = df_funds[\"productNavChange\"].apply(lambda x: x[nav])\n",
    "\n",
    "\n",
    "# rename column cammel format to snake\n",
    "df_funds.columns = [camel_to_snake(col) for col in df_funds.columns]\n",
    "\n",
    "\n",
    "# # handle missing or NaN value\n",
    "df_funds = convert_numeric_nan_to_none(df_funds)\n",
    "\n",
    "df_funds = df_funds.drop([\"data_fund_asset_type\", \"owner\", \"product_nav_change\"], axis=1)"
   ]
  },
  {
   "cell_type": "code",
   "execution_count": 28,
   "metadata": {},
   "outputs": [
    {
     "name": "stdout",
     "output_type": "stream",
     "text": [
      "Connecting to SQL Server database....\n",
      "connection successful.\n",
      "Data inserted into funds successfully.\n"
     ]
    }
   ],
   "source": [
    "# insert data to funds table\n",
    "insert_dataframe_to_sql(\"funds\", df_funds)"
   ]
  },
  {
   "cell_type": "markdown",
   "metadata": {},
   "source": [
    "## 2. Danh sách các Tổ chức phát hành (owner)\n"
   ]
  },
  {
   "cell_type": "code",
   "execution_count": null,
   "metadata": {},
   "outputs": [],
   "source": [
    "df_owner = pd.DataFrame(list_owner)\n",
    "df_owner.columns = [camel_to_snake(col) for col in df_owner.columns]\n",
    "\n",
    "# handle missing or NaN value\n",
    "df_owner = df_owner.where(pd.notnull(df_owner), None)\n",
    "\n",
    "df_owner = df_owner[\n",
    "    [\n",
    "        \"id\",\n",
    "        \"encode_url\",\n",
    "        \"code\",\n",
    "        \"name\",\n",
    "        \"email\",\n",
    "        \"short_name\",\n",
    "        \"address1\",\n",
    "        \"website\",\n",
    "        \"phone\",\n",
    "    ]\n",
    "]\n",
    "\n",
    "# handle missing or NaN value\n",
    "df_owner = convert_numeric_nan_to_none(df_owner)\n",
    "\n",
    "df_owner.head(2)"
   ]
  },
  {
   "cell_type": "code",
   "execution_count": null,
   "metadata": {},
   "outputs": [],
   "source": [
    "# insert data to funds table\n",
    "insert_dataframe_to_sql(\"owners\", df_owner)"
   ]
  },
  {
   "cell_type": "markdown",
   "metadata": {},
   "source": [
    "## 3. Danh sách top nắm giữ theo mã cổ phiếu/trái phiếu\n"
   ]
  },
  {
   "cell_type": "code",
   "execution_count": null,
   "metadata": {},
   "outputs": [],
   "source": [
    "top_holding = []\n",
    "for fund_id in list_fund_id:\n",
    "    top_holding.append(get_top_holding(fund_id))\n",
    "\n",
    "# flatten list top hoding\n",
    "top_holding = [stock_code for fund in top_holding for stock_code in fund]"
   ]
  },
  {
   "cell_type": "code",
   "execution_count": null,
   "metadata": {},
   "outputs": [],
   "source": [
    "df_top_holding = pd.DataFrame(top_holding)\n",
    "\n",
    "df_top_holding[\"updateAt\"] = df_top_holding[\"updateAt\"].apply(\n",
    "    lambda x: unix_to_datetime_with_timezone(x)\n",
    ")\n",
    "\n",
    "# rename column cammel format to snake\n",
    "df_top_holding.columns = [camel_to_snake(col) for col in df_top_holding.columns]\n",
    "\n",
    "df_top_holding = df_top_holding[\n",
    "    [\n",
    "        \"id\",\n",
    "        \"fund_id\",\n",
    "        \"stock_code\",\n",
    "        \"price\",\n",
    "        \"change_from_previous\",\n",
    "        \"change_from_previous_percent\",\n",
    "        \"industry\",\n",
    "        \"type\",\n",
    "        \"net_asset_percent\",\n",
    "        \"update_at\",\n",
    "    ]\n",
    "]\n",
    "\n",
    "# handle missing or NaN value\n",
    "df_top_holding = convert_numeric_nan_to_none(df_top_holding)\n",
    "\n",
    "df_top_holding.head()"
   ]
  },
  {
   "cell_type": "code",
   "execution_count": null,
   "metadata": {},
   "outputs": [],
   "source": [
    "# insert data to funds table\n",
    "insert_dataframe_to_sql(\"top_stock_holdings\", df_top_holding)"
   ]
  },
  {
   "cell_type": "markdown",
   "metadata": {},
   "source": [
    "## 4. Danh sách top nắm giữ theo loại tài sản\n"
   ]
  },
  {
   "cell_type": "code",
   "execution_count": 5,
   "metadata": {},
   "outputs": [
    {
     "name": "stdout",
     "output_type": "stream",
     "text": [
      "'NoneType' object is not iterable\n",
      "'NoneType' object is not iterable\n"
     ]
    }
   ],
   "source": [
    "top_asset = []\n",
    "for fund_id in list_fund_id:\n",
    "    top_asset.append(get_asset_hoding(fund_id))\n",
    "\n",
    "# flatten list top hoding\n",
    "top_asset = [asset_code for asset in top_asset for asset_code in asset]"
   ]
  },
  {
   "cell_type": "code",
   "execution_count": 8,
   "metadata": {},
   "outputs": [
    {
     "data": {
      "text/html": [
       "<div>\n",
       "<style scoped>\n",
       "    .dataframe tbody tr th:only-of-type {\n",
       "        vertical-align: middle;\n",
       "    }\n",
       "\n",
       "    .dataframe tbody tr th {\n",
       "        vertical-align: top;\n",
       "    }\n",
       "\n",
       "    .dataframe thead th {\n",
       "        text-align: right;\n",
       "    }\n",
       "</style>\n",
       "<table border=\"1\" class=\"dataframe\">\n",
       "  <thead>\n",
       "    <tr style=\"text-align: right;\">\n",
       "      <th></th>\n",
       "      <th>id</th>\n",
       "      <th>asset_type</th>\n",
       "      <th>asset_percent</th>\n",
       "      <th>create_at</th>\n",
       "      <th>update_at</th>\n",
       "      <th>fund_id</th>\n",
       "    </tr>\n",
       "  </thead>\n",
       "  <tbody>\n",
       "    <tr>\n",
       "      <th>0</th>\n",
       "      <td>1993</td>\n",
       "      <td>{'id': 1, 'code': 'STOCK', 'name': 'Cổ phiếu',...</td>\n",
       "      <td>95.38</td>\n",
       "      <td>2024-08-08 06:00:16.519000+07:00</td>\n",
       "      <td>2024-08-08 06:00:16.519000+07:00</td>\n",
       "      <td>68</td>\n",
       "    </tr>\n",
       "    <tr>\n",
       "      <th>1</th>\n",
       "      <td>1994</td>\n",
       "      <td>{'id': 3, 'code': 'CASH', 'name': 'Tiền và tươ...</td>\n",
       "      <td>4.62</td>\n",
       "      <td>2024-08-08 06:00:16.519000+07:00</td>\n",
       "      <td>2024-08-08 06:00:16.519000+07:00</td>\n",
       "      <td>68</td>\n",
       "    </tr>\n",
       "    <tr>\n",
       "      <th>2</th>\n",
       "      <td>2016</td>\n",
       "      <td>{'id': 1, 'code': 'STOCK', 'name': 'Cổ phiếu',...</td>\n",
       "      <td>90.76</td>\n",
       "      <td>2024-08-08 06:00:25.101000+07:00</td>\n",
       "      <td>2024-08-08 06:00:25.101000+07:00</td>\n",
       "      <td>11</td>\n",
       "    </tr>\n",
       "    <tr>\n",
       "      <th>3</th>\n",
       "      <td>2017</td>\n",
       "      <td>{'id': 3, 'code': 'CASH', 'name': 'Tiền và tươ...</td>\n",
       "      <td>9.24</td>\n",
       "      <td>2024-08-08 06:00:25.101000+07:00</td>\n",
       "      <td>2024-08-08 06:00:25.101000+07:00</td>\n",
       "      <td>11</td>\n",
       "    </tr>\n",
       "    <tr>\n",
       "      <th>4</th>\n",
       "      <td>2011</td>\n",
       "      <td>{'id': 1, 'code': 'STOCK', 'name': 'Cổ phiếu',...</td>\n",
       "      <td>90.73</td>\n",
       "      <td>2024-08-08 06:00:23.885000+07:00</td>\n",
       "      <td>2024-08-08 06:00:23.885000+07:00</td>\n",
       "      <td>14</td>\n",
       "    </tr>\n",
       "  </tbody>\n",
       "</table>\n",
       "</div>"
      ],
      "text/plain": [
       "     id                                         asset_type  asset_percent  \\\n",
       "0  1993  {'id': 1, 'code': 'STOCK', 'name': 'Cổ phiếu',...          95.38   \n",
       "1  1994  {'id': 3, 'code': 'CASH', 'name': 'Tiền và tươ...           4.62   \n",
       "2  2016  {'id': 1, 'code': 'STOCK', 'name': 'Cổ phiếu',...          90.76   \n",
       "3  2017  {'id': 3, 'code': 'CASH', 'name': 'Tiền và tươ...           9.24   \n",
       "4  2011  {'id': 1, 'code': 'STOCK', 'name': 'Cổ phiếu',...          90.73   \n",
       "\n",
       "                         create_at                        update_at  fund_id  \n",
       "0 2024-08-08 06:00:16.519000+07:00 2024-08-08 06:00:16.519000+07:00       68  \n",
       "1 2024-08-08 06:00:16.519000+07:00 2024-08-08 06:00:16.519000+07:00       68  \n",
       "2 2024-08-08 06:00:25.101000+07:00 2024-08-08 06:00:25.101000+07:00       11  \n",
       "3 2024-08-08 06:00:25.101000+07:00 2024-08-08 06:00:25.101000+07:00       11  \n",
       "4 2024-08-08 06:00:23.885000+07:00 2024-08-08 06:00:23.885000+07:00       14  "
      ]
     },
     "execution_count": 8,
     "metadata": {},
     "output_type": "execute_result"
    }
   ],
   "source": [
    "df_top_asset = pd.DataFrame(top_asset)\n",
    "\n",
    "df_top_asset[\"updateAt\"] = df_top_asset[\"updateAt\"].apply(\n",
    "    lambda x: unix_to_datetime_with_timezone(x)\n",
    ")\n",
    "\n",
    "df_top_asset[\"createAt\"] = df_top_asset[\"createAt\"].apply(\n",
    "    lambda x: unix_to_datetime_with_timezone(x)\n",
    ")\n",
    "\n",
    "# rename column cammel format to snake\n",
    "df_top_asset.columns = [camel_to_snake(col) for col in df_top_asset.columns]\n",
    "\n",
    "df_top_asset.head()"
   ]
  },
  {
   "cell_type": "code",
   "execution_count": 9,
   "metadata": {},
   "outputs": [
    {
     "data": {
      "text/html": [
       "<div>\n",
       "<style scoped>\n",
       "    .dataframe tbody tr th:only-of-type {\n",
       "        vertical-align: middle;\n",
       "    }\n",
       "\n",
       "    .dataframe tbody tr th {\n",
       "        vertical-align: top;\n",
       "    }\n",
       "\n",
       "    .dataframe thead th {\n",
       "        text-align: right;\n",
       "    }\n",
       "</style>\n",
       "<table border=\"1\" class=\"dataframe\">\n",
       "  <thead>\n",
       "    <tr style=\"text-align: right;\">\n",
       "      <th></th>\n",
       "      <th>id</th>\n",
       "      <th>fund_id</th>\n",
       "      <th>asset_type</th>\n",
       "      <th>asset_name</th>\n",
       "      <th>asset_percent</th>\n",
       "      <th>create_at</th>\n",
       "      <th>update_at</th>\n",
       "    </tr>\n",
       "  </thead>\n",
       "  <tbody>\n",
       "    <tr>\n",
       "      <th>0</th>\n",
       "      <td>1993</td>\n",
       "      <td>68</td>\n",
       "      <td>STOCK</td>\n",
       "      <td>Cổ phiếu</td>\n",
       "      <td>95.38</td>\n",
       "      <td>2024-08-08 06:00:16.519000+07:00</td>\n",
       "      <td>2024-08-08 06:00:16.519000+07:00</td>\n",
       "    </tr>\n",
       "    <tr>\n",
       "      <th>1</th>\n",
       "      <td>1994</td>\n",
       "      <td>68</td>\n",
       "      <td>CASH</td>\n",
       "      <td>Tiền và tương đương tiền</td>\n",
       "      <td>4.62</td>\n",
       "      <td>2024-08-08 06:00:16.519000+07:00</td>\n",
       "      <td>2024-08-08 06:00:16.519000+07:00</td>\n",
       "    </tr>\n",
       "    <tr>\n",
       "      <th>2</th>\n",
       "      <td>2016</td>\n",
       "      <td>11</td>\n",
       "      <td>STOCK</td>\n",
       "      <td>Cổ phiếu</td>\n",
       "      <td>90.76</td>\n",
       "      <td>2024-08-08 06:00:25.101000+07:00</td>\n",
       "      <td>2024-08-08 06:00:25.101000+07:00</td>\n",
       "    </tr>\n",
       "    <tr>\n",
       "      <th>3</th>\n",
       "      <td>2017</td>\n",
       "      <td>11</td>\n",
       "      <td>CASH</td>\n",
       "      <td>Tiền và tương đương tiền</td>\n",
       "      <td>9.24</td>\n",
       "      <td>2024-08-08 06:00:25.101000+07:00</td>\n",
       "      <td>2024-08-08 06:00:25.101000+07:00</td>\n",
       "    </tr>\n",
       "    <tr>\n",
       "      <th>4</th>\n",
       "      <td>2011</td>\n",
       "      <td>14</td>\n",
       "      <td>STOCK</td>\n",
       "      <td>Cổ phiếu</td>\n",
       "      <td>90.73</td>\n",
       "      <td>2024-08-08 06:00:23.885000+07:00</td>\n",
       "      <td>2024-08-08 06:00:23.885000+07:00</td>\n",
       "    </tr>\n",
       "  </tbody>\n",
       "</table>\n",
       "</div>"
      ],
      "text/plain": [
       "     id  fund_id asset_type                asset_name  asset_percent  \\\n",
       "0  1993       68      STOCK                  Cổ phiếu          95.38   \n",
       "1  1994       68       CASH  Tiền và tương đương tiền           4.62   \n",
       "2  2016       11      STOCK                  Cổ phiếu          90.76   \n",
       "3  2017       11       CASH  Tiền và tương đương tiền           9.24   \n",
       "4  2011       14      STOCK                  Cổ phiếu          90.73   \n",
       "\n",
       "                         create_at                        update_at  \n",
       "0 2024-08-08 06:00:16.519000+07:00 2024-08-08 06:00:16.519000+07:00  \n",
       "1 2024-08-08 06:00:16.519000+07:00 2024-08-08 06:00:16.519000+07:00  \n",
       "2 2024-08-08 06:00:25.101000+07:00 2024-08-08 06:00:25.101000+07:00  \n",
       "3 2024-08-08 06:00:25.101000+07:00 2024-08-08 06:00:25.101000+07:00  \n",
       "4 2024-08-08 06:00:23.885000+07:00 2024-08-08 06:00:23.885000+07:00  "
      ]
     },
     "execution_count": 9,
     "metadata": {},
     "output_type": "execute_result"
    }
   ],
   "source": [
    "df_top_asset[\"asset_name\"] = df_top_asset[\"asset_type\"].apply(lambda x: x[\"name\"])\n",
    "df_top_asset[\"asset_type\"] = df_top_asset[\"asset_type\"].apply(lambda x: x[\"code\"])\n",
    "\n",
    "df_top_asset = df_top_asset[\n",
    "    [\n",
    "        \"id\",\n",
    "        \"fund_id\",\n",
    "        \"asset_type\",\n",
    "        \"asset_name\",\n",
    "        \"asset_percent\",\n",
    "        \"create_at\",\n",
    "        \"update_at\",\n",
    "    ]\n",
    "]\n",
    "\n",
    "# handle missing or NaN value\n",
    "df_top_asset = convert_numeric_nan_to_none(df_top_asset)\n",
    "\n",
    "df_top_asset.head()"
   ]
  },
  {
   "cell_type": "code",
   "execution_count": 10,
   "metadata": {},
   "outputs": [
    {
     "name": "stdout",
     "output_type": "stream",
     "text": [
      "Connecting to SQL Server database....\n",
      "connection successful.\n",
      "Data inserted into top_asset_holdings successfully.\n"
     ]
    }
   ],
   "source": [
    "# insert data to funds table\n",
    "insert_dataframe_to_sql(\"top_asset_holdings\", df_top_asset)"
   ]
  },
  {
   "cell_type": "markdown",
   "metadata": {},
   "source": [
    "## 5. Danh sách top nắm giữ theo nhóm ngành\n"
   ]
  },
  {
   "cell_type": "code",
   "execution_count": 11,
   "metadata": {},
   "outputs": [],
   "source": [
    "top_industry = []\n",
    "for fund_id in list_fund_id:\n",
    "    top_industry.append(get_industry_holding(fund_id))\n",
    "\n",
    "# flatten list top hoding\n",
    "top_industry = [industry for fund in top_industry for industry in fund]"
   ]
  },
  {
   "cell_type": "code",
   "execution_count": 12,
   "metadata": {},
   "outputs": [
    {
     "data": {
      "text/html": [
       "<div>\n",
       "<style scoped>\n",
       "    .dataframe tbody tr th:only-of-type {\n",
       "        vertical-align: middle;\n",
       "    }\n",
       "\n",
       "    .dataframe tbody tr th {\n",
       "        vertical-align: top;\n",
       "    }\n",
       "\n",
       "    .dataframe thead th {\n",
       "        text-align: right;\n",
       "    }\n",
       "</style>\n",
       "<table border=\"1\" class=\"dataframe\">\n",
       "  <thead>\n",
       "    <tr style=\"text-align: right;\">\n",
       "      <th></th>\n",
       "      <th>id</th>\n",
       "      <th>fund_id</th>\n",
       "      <th>industry</th>\n",
       "      <th>asset_percent</th>\n",
       "    </tr>\n",
       "  </thead>\n",
       "  <tbody>\n",
       "    <tr>\n",
       "      <th>0</th>\n",
       "      <td>68_1</td>\n",
       "      <td>68</td>\n",
       "      <td>Ngân hàng</td>\n",
       "      <td>37.11</td>\n",
       "    </tr>\n",
       "    <tr>\n",
       "      <th>1</th>\n",
       "      <td>68_2</td>\n",
       "      <td>68</td>\n",
       "      <td>Công nghệ và thông tin</td>\n",
       "      <td>17.86</td>\n",
       "    </tr>\n",
       "    <tr>\n",
       "      <th>2</th>\n",
       "      <td>68_3</td>\n",
       "      <td>68</td>\n",
       "      <td>Xây dựng</td>\n",
       "      <td>6.33</td>\n",
       "    </tr>\n",
       "    <tr>\n",
       "      <th>3</th>\n",
       "      <td>68_4</td>\n",
       "      <td>68</td>\n",
       "      <td>Vận tải - Kho bãi</td>\n",
       "      <td>5.50</td>\n",
       "    </tr>\n",
       "    <tr>\n",
       "      <th>4</th>\n",
       "      <td>68_5</td>\n",
       "      <td>68</td>\n",
       "      <td>Bảo hiểm</td>\n",
       "      <td>4.56</td>\n",
       "    </tr>\n",
       "  </tbody>\n",
       "</table>\n",
       "</div>"
      ],
      "text/plain": [
       "     id  fund_id                industry  asset_percent\n",
       "0  68_1       68               Ngân hàng          37.11\n",
       "1  68_2       68  Công nghệ và thông tin          17.86\n",
       "2  68_3       68                Xây dựng           6.33\n",
       "3  68_4       68       Vận tải - Kho bãi           5.50\n",
       "4  68_5       68                Bảo hiểm           4.56"
      ]
     },
     "execution_count": 12,
     "metadata": {},
     "output_type": "execute_result"
    }
   ],
   "source": [
    "df_top_industry = pd.DataFrame(top_industry)\n",
    "\n",
    "# rename column cammel format to snake\n",
    "df_top_industry.columns = [camel_to_snake(col) for col in df_top_industry.columns]\n",
    "\n",
    "# create unique id value\n",
    "df_top_industry[\"fund_index\"] = df_top_industry.groupby(\"fund_id\").cumcount() + 1\n",
    "\n",
    "df_top_industry[\"id\"] = df_top_industry.apply(\n",
    "    lambda x: str(x[\"fund_id\"]) + \"_\" + str(x[\"fund_index\"]), axis=1\n",
    ")\n",
    "\n",
    "df_top_industry = df_top_industry[[\"id\", \"fund_id\", \"industry\", \"asset_percent\"]]\n",
    "\n",
    "# handle missing or NaN value\n",
    "df_top_industry = convert_numeric_nan_to_none(df_top_industry)\n",
    "\n",
    "df_top_industry.head(5)"
   ]
  },
  {
   "cell_type": "code",
   "execution_count": 13,
   "metadata": {},
   "outputs": [
    {
     "name": "stdout",
     "output_type": "stream",
     "text": [
      "Connecting to SQL Server database....\n",
      "connection successful.\n",
      "Data inserted into top_industry_holdings successfully.\n"
     ]
    }
   ],
   "source": [
    "# insert data to funds table\n",
    "insert_dataframe_to_sql(\"top_industry_holdings\", df_top_industry)"
   ]
  },
  {
   "cell_type": "markdown",
   "metadata": {},
   "source": [
    "## 6. Net asset value\n"
   ]
  },
  {
   "cell_type": "code",
   "execution_count": 37,
   "metadata": {},
   "outputs": [
    {
     "name": "stdout",
     "output_type": "stream",
     "text": [
      "20240901\n"
     ]
    }
   ],
   "source": [
    "start_date = date.today().strftime(\"%Y%m%d\")\n",
    "print(start_date)"
   ]
  },
  {
   "cell_type": "code",
   "execution_count": 49,
   "metadata": {},
   "outputs": [],
   "source": [
    "list_nav = []\n",
    "for fund_id in list_fund_id:\n",
    "    list_nav.append(get_nav_history(fund_id))"
   ]
  },
  {
   "cell_type": "code",
   "execution_count": 50,
   "metadata": {},
   "outputs": [
    {
     "data": {
      "text/html": [
       "<div>\n",
       "<style scoped>\n",
       "    .dataframe tbody tr th:only-of-type {\n",
       "        vertical-align: middle;\n",
       "    }\n",
       "\n",
       "    .dataframe tbody tr th {\n",
       "        vertical-align: top;\n",
       "    }\n",
       "\n",
       "    .dataframe thead th {\n",
       "        text-align: right;\n",
       "    }\n",
       "</style>\n",
       "<table border=\"1\" class=\"dataframe\">\n",
       "  <thead>\n",
       "    <tr style=\"text-align: right;\">\n",
       "      <th></th>\n",
       "      <th>id</th>\n",
       "      <th>createdAt</th>\n",
       "      <th>nav</th>\n",
       "      <th>navDate</th>\n",
       "      <th>productId</th>\n",
       "    </tr>\n",
       "  </thead>\n",
       "  <tbody>\n",
       "    <tr>\n",
       "      <th>0</th>\n",
       "      <td>21001</td>\n",
       "      <td>NaN</td>\n",
       "      <td>9996.94</td>\n",
       "      <td>2023-05-09</td>\n",
       "      <td>68</td>\n",
       "    </tr>\n",
       "    <tr>\n",
       "      <th>1</th>\n",
       "      <td>20963</td>\n",
       "      <td>NaN</td>\n",
       "      <td>10000.00</td>\n",
       "      <td>2023-05-11</td>\n",
       "      <td>68</td>\n",
       "    </tr>\n",
       "    <tr>\n",
       "      <th>2</th>\n",
       "      <td>20964</td>\n",
       "      <td>NaN</td>\n",
       "      <td>10085.36</td>\n",
       "      <td>2023-05-31</td>\n",
       "      <td>68</td>\n",
       "    </tr>\n",
       "    <tr>\n",
       "      <th>3</th>\n",
       "      <td>20965</td>\n",
       "      <td>NaN</td>\n",
       "      <td>10041.77</td>\n",
       "      <td>2023-06-01</td>\n",
       "      <td>68</td>\n",
       "    </tr>\n",
       "    <tr>\n",
       "      <th>4</th>\n",
       "      <td>20966</td>\n",
       "      <td>NaN</td>\n",
       "      <td>10084.79</td>\n",
       "      <td>2023-06-02</td>\n",
       "      <td>68</td>\n",
       "    </tr>\n",
       "  </tbody>\n",
       "</table>\n",
       "</div>"
      ],
      "text/plain": [
       "      id  createdAt       nav     navDate  productId\n",
       "0  21001        NaN   9996.94  2023-05-09         68\n",
       "1  20963        NaN  10000.00  2023-05-11         68\n",
       "2  20964        NaN  10085.36  2023-05-31         68\n",
       "3  20965        NaN  10041.77  2023-06-01         68\n",
       "4  20966        NaN  10084.79  2023-06-02         68"
      ]
     },
     "execution_count": 50,
     "metadata": {},
     "output_type": "execute_result"
    }
   ],
   "source": [
    "# flatten list top hoding\n",
    "list_nav = [nav for fund in list_nav for nav in fund]\n",
    "\n",
    "df_nav = pd.DataFrame(list_nav)\n",
    "\n",
    "df_nav.head()"
   ]
  },
  {
   "cell_type": "code",
   "execution_count": 51,
   "metadata": {},
   "outputs": [
    {
     "name": "stdout",
     "output_type": "stream",
     "text": [
      "<class 'pandas.core.frame.DataFrame'>\n",
      "RangeIndex: 29274 entries, 0 to 29273\n",
      "Data columns (total 5 columns):\n",
      " #   Column     Non-Null Count  Dtype  \n",
      "---  ------     --------------  -----  \n",
      " 0   id         29274 non-null  int64  \n",
      " 1   createdAt  17807 non-null  float64\n",
      " 2   nav        29274 non-null  float64\n",
      " 3   navDate    29274 non-null  object \n",
      " 4   productId  29274 non-null  int64  \n",
      "dtypes: float64(2), int64(2), object(1)\n",
      "memory usage: 1.1+ MB\n"
     ]
    }
   ],
   "source": [
    "df_nav.info()"
   ]
  },
  {
   "cell_type": "code",
   "execution_count": 52,
   "metadata": {},
   "outputs": [],
   "source": [
    "df_nav.loc[df_nav.id == 5237, \"navDate\"] = \"2020-11-11\""
   ]
  },
  {
   "cell_type": "code",
   "execution_count": 53,
   "metadata": {},
   "outputs": [
    {
     "data": {
      "text/html": [
       "<div>\n",
       "<style scoped>\n",
       "    .dataframe tbody tr th:only-of-type {\n",
       "        vertical-align: middle;\n",
       "    }\n",
       "\n",
       "    .dataframe tbody tr th {\n",
       "        vertical-align: top;\n",
       "    }\n",
       "\n",
       "    .dataframe thead th {\n",
       "        text-align: right;\n",
       "    }\n",
       "</style>\n",
       "<table border=\"1\" class=\"dataframe\">\n",
       "  <thead>\n",
       "    <tr style=\"text-align: right;\">\n",
       "      <th></th>\n",
       "      <th>id</th>\n",
       "      <th>product_id</th>\n",
       "      <th>nav_date</th>\n",
       "      <th>nav</th>\n",
       "      <th>created_at</th>\n",
       "    </tr>\n",
       "  </thead>\n",
       "  <tbody>\n",
       "    <tr>\n",
       "      <th>29269</th>\n",
       "      <td>29297</td>\n",
       "      <td>69</td>\n",
       "      <td>2024-08-26</td>\n",
       "      <td>10618.25</td>\n",
       "      <td>2024-08-26 17:20:59.766000+07:00</td>\n",
       "    </tr>\n",
       "    <tr>\n",
       "      <th>29270</th>\n",
       "      <td>30011</td>\n",
       "      <td>69</td>\n",
       "      <td>2024-08-27</td>\n",
       "      <td>10514.18</td>\n",
       "      <td>2024-08-27 16:37:29.201000+07:00</td>\n",
       "    </tr>\n",
       "    <tr>\n",
       "      <th>29271</th>\n",
       "      <td>30049</td>\n",
       "      <td>69</td>\n",
       "      <td>2024-08-28</td>\n",
       "      <td>10491.88</td>\n",
       "      <td>2024-08-28 17:14:33.965000+07:00</td>\n",
       "    </tr>\n",
       "    <tr>\n",
       "      <th>29272</th>\n",
       "      <td>30082</td>\n",
       "      <td>69</td>\n",
       "      <td>2024-08-29</td>\n",
       "      <td>10495.25</td>\n",
       "      <td>2024-08-29 16:48:23.026000+07:00</td>\n",
       "    </tr>\n",
       "    <tr>\n",
       "      <th>29273</th>\n",
       "      <td>30120</td>\n",
       "      <td>69</td>\n",
       "      <td>2024-08-30</td>\n",
       "      <td>10503.55</td>\n",
       "      <td>2024-08-30 16:52:37.511000+07:00</td>\n",
       "    </tr>\n",
       "  </tbody>\n",
       "</table>\n",
       "</div>"
      ],
      "text/plain": [
       "          id  product_id   nav_date       nav  \\\n",
       "29269  29297          69 2024-08-26  10618.25   \n",
       "29270  30011          69 2024-08-27  10514.18   \n",
       "29271  30049          69 2024-08-28  10491.88   \n",
       "29272  30082          69 2024-08-29  10495.25   \n",
       "29273  30120          69 2024-08-30  10503.55   \n",
       "\n",
       "                             created_at  \n",
       "29269  2024-08-26 17:20:59.766000+07:00  \n",
       "29270  2024-08-27 16:37:29.201000+07:00  \n",
       "29271  2024-08-28 17:14:33.965000+07:00  \n",
       "29272  2024-08-29 16:48:23.026000+07:00  \n",
       "29273  2024-08-30 16:52:37.511000+07:00  "
      ]
     },
     "execution_count": 53,
     "metadata": {},
     "output_type": "execute_result"
    }
   ],
   "source": [
    "df_nav[\"navDate\"] = pd.to_datetime(df_nav[\"navDate\"])\n",
    "df_nav[\"createdAt\"] = df_nav[\"createdAt\"].apply(\n",
    "    lambda x: None if pd.isna(x) else unix_to_datetime_with_timezone(x)\n",
    ")\n",
    "\n",
    "# rename column cammel format to snake\n",
    "df_nav.columns = [camel_to_snake(col) for col in df_nav.columns]\n",
    "\n",
    "df_nav = df_nav[[\"id\", \"product_id\", \"nav_date\", \"nav\", \"created_at\"]]\n",
    "\n",
    "df_nav[\"created_at\"] = df_nav[\"created_at\"].astype(object)\n",
    "# handle missing or NaN value\n",
    "df_nav = convert_numeric_nan_to_none(df_nav)\n",
    "\n",
    "df_nav.tail()"
   ]
  },
  {
   "cell_type": "code",
   "execution_count": 54,
   "metadata": {},
   "outputs": [
    {
     "name": "stdout",
     "output_type": "stream",
     "text": [
      "Connecting to SQL Server database....\n",
      "connection successful.\n",
      "Data inserted into net_asset_values successfully.\n"
     ]
    }
   ],
   "source": [
    "insert_dataframe_to_sql(\"net_asset_values\", df_nav)"
   ]
  },
  {
   "cell_type": "code",
   "execution_count": null,
   "metadata": {},
   "outputs": [],
   "source": []
  }
 ],
 "metadata": {
  "kernelspec": {
   "display_name": "fund-analytics",
   "language": "python",
   "name": "python3"
  },
  "language_info": {
   "codemirror_mode": {
    "name": "ipython",
    "version": 3
   },
   "file_extension": ".py",
   "mimetype": "text/x-python",
   "name": "python",
   "nbconvert_exporter": "python",
   "pygments_lexer": "ipython3",
   "version": "3.11.9"
  }
 },
 "nbformat": 4,
 "nbformat_minor": 2
}
